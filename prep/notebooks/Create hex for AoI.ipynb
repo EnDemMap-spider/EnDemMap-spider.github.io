{
 "cells": [
  {
   "cell_type": "markdown",
   "metadata": {},
   "source": [
    "### Stand-alone code to create hexagons\n",
    "\n",
    "With requirements needed for the spider code"
   ]
  },
  {
   "cell_type": "code",
   "execution_count": 2,
   "metadata": {},
   "outputs": [],
   "source": [
    "from typing import cast\n",
    "\n",
    "import geopandas as gpd ##requires geopandas >0.10\n",
    "import h3pandas  # NoQA  type: ignore\n",
    "import numpy as np\n",
    "import pandas as pd\n",
    "from geopandas.tools import sjoin"
   ]
  },
  {
   "cell_type": "code",
   "execution_count": 3,
   "metadata": {},
   "outputs": [],
   "source": [
    "def create_hex(aoi: gpd.GeoDataFrame, resolution: int) -> gpd.GeoDataFrame:\n",
    "    geom = aoi.h3.polyfill_resample(resolution).get([\"geometry\"])\n",
    "    geom = geom.assign(h3_index=geom.index)\n",
    "    geom = geom.reset_index(drop=True)\n",
    "    return geom"
   ]
  },
  {
   "cell_type": "code",
   "execution_count": 4,
   "metadata": {},
   "outputs": [],
   "source": [
    "def add_neighbors(gdf: gpd.GeoDataFrame) -> gpd.GeoDataFrame:\n",
    "    orig_crs = gdf.crs\n",
    "    gdf = cast(gpd.GeoDataFrame, gdf.to_crs(epsg=3857))\n",
    "    nei = []\n",
    "    for idx, row in gdf.iterrows():\n",
    "        out = (\n",
    "            gpd.GeoDataFrame(geometry=[row.geometry], crs=gdf.crs)\n",
    "            .sjoin_nearest(gdf, how=\"left\", max_distance=0.1)\n",
    "            .index_right\n",
    "        )\n",
    "        out = out.loc[out != idx]\n",
    "        out = np.pad(out, (0, 6 - len(out)))\n",
    "        nei.append(out)\n",
    "\n",
    "    nei = pd.DataFrame(nei, columns=[f\"n{i}\" for i in range(6)], index=gdf.index)  # type: ignore\n",
    "    gdf = pd.concat((gdf, nei), axis=1).to_crs(orig_crs)\n",
    "    return gdf"
   ]
  },
  {
   "cell_type": "code",
   "execution_count": 5,
   "metadata": {},
   "outputs": [],
   "source": [
    "def feat(aoi: gpd.GeoDataFrame, hex_res: int) -> gpd.GeoDataFrame:\n",
    "    geom = create_hex(aoi, hex_res)\n",
    "    geom = add_neighbors(geom)\n",
    "    geom[\"index\"] = geom.index\n",
    "    geom = cast(gpd.GeoDataFrame, geom.dropna(axis=0, subset=[\"geometry\"]))\n",
    "    return geom"
   ]
  },
  {
   "cell_type": "code",
   "execution_count": 4,
   "metadata": {},
   "outputs": [],
   "source": [
    "# Example Usage\n",
    "aoi = gpd.read_file(r\"C:\\Users\\alexl\\Dropbox\\Self-employment\\Imperial work\\Zambia\\GIS\\admin\\Copperbelt.geojson\")\n",
    "\n",
    "hex = feat(aoi, 6)\n",
    "hex.to_file(\"hex.geojson\")\n",
    "print(\"Use hexagons in the spider code as instructed\")"
   ]
  }
 ],
 "metadata": {
  "kernelspec": {
   "display_name": "Python 3 (ipykernel)",
   "language": "python",
   "name": "python3"
  },
  "language_info": {
   "codemirror_mode": {
    "name": "ipython",
    "version": 3
   },
   "file_extension": ".py",
   "mimetype": "text/x-python",
   "name": "python",
   "nbconvert_exporter": "python",
   "pygments_lexer": "ipython3",
   "version": "3.11.9"
  }
 },
 "nbformat": 4,
 "nbformat_minor": 4
}
