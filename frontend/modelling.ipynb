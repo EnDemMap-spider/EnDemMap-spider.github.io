{
 "cells": [
  {
   "cell_type": "code",
   "execution_count": null,
   "id": "ef3dac50-5d4b-4b49-8fe3-3dc4bb48cb52",
   "metadata": {},
   "outputs": [],
   "source": [
    "%load_ext autoreload\n",
    "%autoreload 2"
   ]
  },
  {
   "cell_type": "code",
   "execution_count": null,
   "id": "1fdab7f4-8ad7-4772-93ad-c8a2a27d6e88",
   "metadata": {},
   "outputs": [],
   "source": [
    "from importlib import import_module\n",
    "\n",
    "import geopandas as gpd\n",
    "import matplotlib.pyplot as plt\n",
    "import pandas as pd\n",
    "import yaml\n",
    "\n",
    "from dist import models"
   ]
  },
  {
   "cell_type": "code",
   "execution_count": null,
   "id": "6f8524a7-881a-4555-bf90-e8ad610f8388",
   "metadata": {},
   "outputs": [],
   "source": [
    "name = \"fish\""
   ]
  },
  {
   "cell_type": "code",
   "execution_count": null,
   "id": "e2ade78c-3e80-4c06-af3d-52666b604f15",
   "metadata": {},
   "outputs": [],
   "source": [
    "gdf = gpd.read_file(f\"dist/data/{name}.geojson\")\n",
    "config = yaml.safe_load(open(f\"dist/config/{name}.yml\"))\n",
    "model = import_module(f\"dist.models.{name}\").model\n",
    "pars = {p[\"col\"]: p[\"val\"] for p in config[\"pars\"]}"
   ]
  },
  {
   "cell_type": "code",
   "execution_count": null,
   "id": "beca2a24-753e-47d3-bdbc-f03acd258068",
   "metadata": {},
   "outputs": [],
   "source": [
    "proc = gpd.GeoDataFrame(\n",
    "    pd.concat([row, pd.Series(model(row.to_dict(), pars))]) for _, row in gdf.iterrows()\n",
    ")"
   ]
  },
  {
   "cell_type": "code",
   "execution_count": null,
   "id": "0ac6d368-82a8-40fa-a95e-bb74ca36339c",
   "metadata": {},
   "outputs": [],
   "source": [
    "fig, ax = plt.subplots(figsize=(10, 10))\n",
    "proc.plot(ax=ax, column=\"revenue\")\n",
    "plt.show()"
   ]
  }
 ],
 "metadata": {
  "kernelspec": {
   "display_name": "Python 3 (ipykernel)",
   "language": "python",
   "name": "python3"
  },
  "language_info": {
   "codemirror_mode": {
    "name": "ipython",
    "version": 3
   },
   "file_extension": ".py",
   "mimetype": "text/x-python",
   "name": "python",
   "nbconvert_exporter": "python",
   "pygments_lexer": "ipython3",
   "version": "3.10.5"
  }
 },
 "nbformat": 4,
 "nbformat_minor": 5
}
