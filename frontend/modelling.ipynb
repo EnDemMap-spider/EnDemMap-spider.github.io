{
 "cells": [
  {
   "cell_type": "code",
   "execution_count": null,
   "id": "ef3dac50-5d4b-4b49-8fe3-3dc4bb48cb52",
   "metadata": {},
   "outputs": [],
   "source": [
    "%load_ext autoreload\n",
    "%autoreload 2"
   ]
  },
  {
   "cell_type": "code",
   "execution_count": null,
   "id": "1fdab7f4-8ad7-4772-93ad-c8a2a27d6e88",
   "metadata": {},
   "outputs": [],
   "source": [
    "from importlib import import_module\n",
    "\n",
    "import geopandas as gpd\n",
    "import matplotlib.pyplot as plt\n",
    "import pandas as pd\n",
    "import yaml\n",
    "\n",
    "from dist import models"
   ]
  },
  {
   "cell_type": "code",
   "execution_count": null,
   "id": "fefc2e65-a37a-4c91-a412-2162638bad22",
   "metadata": {},
   "outputs": [],
   "source": [
    "def run_one(name):\n",
    "    gdf = gpd.read_file(f\"dist/data/{name}.geojson\")\n",
    "    config = yaml.safe_load(open(f\"dist/config/{name}.yml\"))\n",
    "    model = import_module(f\"dist.models.{name}\").entry\n",
    "    pars = {p[\"col\"]: p[\"val\"] for p in config[\"pars\"]}\n",
    "\n",
    "    proc = gpd.GeoDataFrame(\n",
    "        pd.concat([row, pd.Series(model(row.to_dict(), pars))]) for _, row in gdf.iterrows()\n",
    "    )\n",
    "\n",
    "    fig, ax = plt.subplots(figsize=(10, 10))\n",
    "    var = \"tech\"\n",
    "    proc.plot(ax=ax, column=var)\n",
    "    ax.set_title(f\"Model: {name} | Variable: {var}\")\n",
    "    plt.show()"
   ]
  },
  {
   "cell_type": "code",
   "execution_count": null,
   "id": "47a7a4a2-27f6-44fd-841b-94853997afb5",
   "metadata": {},
   "outputs": [],
   "source": [
    "for n in [\"fish\", \"irri\", \"hydro\"]:\n",
    "    run_one(n)"
   ]
  },
  {
   "cell_type": "code",
   "execution_count": null,
   "id": "b0528dfa-fabb-4542-87bd-3727b2f04e1d",
   "metadata": {},
   "outputs": [],
   "source": []
  }
 ],
 "metadata": {
  "kernelspec": {
   "display_name": "Python 3 (ipykernel)",
   "language": "python",
   "name": "python3"
  },
  "language_info": {
   "codemirror_mode": {
    "name": "ipython",
    "version": 3
   },
   "file_extension": ".py",
   "mimetype": "text/x-python",
   "name": "python",
   "nbconvert_exporter": "python",
   "pygments_lexer": "ipython3",
   "version": "3.10.5"
  }
 },
 "nbformat": 4,
 "nbformat_minor": 5
}
