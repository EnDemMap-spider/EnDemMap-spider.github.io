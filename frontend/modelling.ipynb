{
 "cells": [
  {
   "cell_type": "code",
   "execution_count": null,
   "id": "ef3dac50-5d4b-4b49-8fe3-3dc4bb48cb52",
   "metadata": {},
   "outputs": [],
   "source": [
    "%load_ext autoreload\n",
    "%autoreload 2"
   ]
  },
  {
   "cell_type": "code",
   "execution_count": null,
   "id": "1fdab7f4-8ad7-4772-93ad-c8a2a27d6e88",
   "metadata": {},
   "outputs": [],
   "source": [
    "import geopandas as gpd\n",
    "import matplotlib.pyplot as plt\n",
    "import pandas as pd\n",
    "import yaml\n",
    "\n",
    "from dist.models import fish, irri, hydro"
   ]
  },
  {
   "cell_type": "code",
   "execution_count": null,
   "id": "d15c66cd-2ee9-44c9-a579-6e30484a7a36",
   "metadata": {},
   "outputs": [],
   "source": [
    "models = {\n",
    "    \"fish\": fish.model,\n",
    "    \"irri\": irri.model,\n",
    "    \"hydro\": hydro.model,\n",
    "}"
   ]
  },
  {
   "cell_type": "code",
   "execution_count": null,
   "id": "e79a1903-66e5-4c3d-8408-d4ff62910504",
   "metadata": {},
   "outputs": [],
   "source": [
    "def load_data(name):\n",
    "    gdf = gpd.read_file(f\"dist/data/{name}.geojson\")\n",
    "    config = yaml.safe_load(open(f\"dist/config/{name}.yml\"))\n",
    "    pars = {p[\"col\"]: p[\"val\"] for p in config[\"pars\"]}\n",
    "    return gdf, pars"
   ]
  },
  {
   "cell_type": "code",
   "execution_count": null,
   "id": "8832e99c-b5c2-4637-87b4-02667608dcf3",
   "metadata": {},
   "outputs": [],
   "source": [
    "def process(gdf, pars, model):\n",
    "    return pd.concat(\n",
    "        [gdf, pd.DataFrame([model(row.to_dict(), pars) for _, row in gdf.iterrows()])],\n",
    "        axis=\"columns\",\n",
    "    )"
   ]
  },
  {
   "cell_type": "code",
   "execution_count": null,
   "id": "c4056932-7897-4a23-b843-519b1260ae9d",
   "metadata": {},
   "outputs": [],
   "source": [
    "fig, ax = plt.subplots(1, 3, figsize=(10, 10))\n",
    "for i, name in enumerate(models.keys()):\n",
    "    model = models[name]\n",
    "    gdf, pars = load_data(name)\n",
    "    out = process(gdf, pars, model)\n",
    "    out.plot(ax=ax[i], column=\"tech\")\n",
    "plt.show()"
   ]
  },
  {
   "cell_type": "code",
   "execution_count": null,
   "id": "99c211dc-b8ae-433e-8e15-0224035fe48b",
   "metadata": {},
   "outputs": [],
   "source": []
  }
 ],
 "metadata": {
  "kernelspec": {
   "display_name": "Python 3 (ipykernel)",
   "language": "python",
   "name": "python3"
  },
  "language_info": {
   "codemirror_mode": {
    "name": "ipython",
    "version": 3
   },
   "file_extension": ".py",
   "mimetype": "text/x-python",
   "name": "python",
   "nbconvert_exporter": "python",
   "pygments_lexer": "ipython3",
   "version": "3.10.5"
  }
 },
 "nbformat": 4,
 "nbformat_minor": 5
}
